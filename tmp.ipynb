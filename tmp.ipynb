{
 "cells": [
  {
   "cell_type": "code",
   "execution_count": null,
   "id": "e095d9c9",
   "metadata": {},
   "outputs": [
    {
     "ename": "",
     "evalue": "",
     "output_type": "error",
     "traceback": [
      "\u001b[1;31mRunning cells with 'Python 3.8.10' requires the ipykernel package.\n",
      "\u001b[1;31m<a href='command:jupyter.createPythonEnvAndSelectController'>Create a Python Environment</a> with the required packages."
     ]
    }
   ],
   "source": [
    "# config.py\n",
    "\n",
    "# Simulation Timing\n",
    "SIMULATION_DURATION_MINUTES = 60\n",
    "DATA_FREQUENCY_HZ = 1\n",
    "FAULT_ONSET_FRACTION = 0.4\n",
    "FAULT_PROGRESSION_FRACTION = 0.3  # How long fault takes to fully manifest\n",
    "SENSOR_FAILURE_ONSET_FRACTION = 0.6\n",
    "SENSOR_FAILURE_PROGRESSION_FRACTION = 0.2\n",
    "\n",
    "# General Noise & Dropout\n",
    "DEFAULT_NOISE_STD_FACTOR = 0.01  # Standard deviation as a fraction of the target value\n",
    "DROPOUT_RATE = 0.02  # 2% dropout chance per sensor reading\n",
    "\n",
    "# --- Sensor Specific Parameters ---\n",
    "# Note: Using dictionaries for easier parameter management per sensor\n",
    "PARAMS = {\n",
    "    'EGT': {\n",
    "        'unit': 'C',\n",
    "        'cruise_target': 900.0,\n",
    "        'low_thresh': 850.0,\n",
    "        'high_thresh': 950.0,\n",
    "        'min_val': 400.0,\n",
    "        'max_val': 1100.0,\n",
    "        'noise_std': 5.0,  # Absolute noise level overrides factor\n",
    "        'ramp_factor': 0.02,  # Thermal inertia\n",
    "        'bearing_wear_increase': 50.0,  # How much it increases in BearingWear\n",
    "        'fail_drift': 100.0,  # How much sensor drifts when failing\n",
    "        'fail_noise_factor': 5.0,  # Multiplier for noise when failing\n",
    "        'has_hmm': True,\n",
    "    },\n",
    "    'N2': {\n",
    "        'unit': '%RPM',\n",
    "        'cruise_target': 90.0,\n",
    "        'low_thresh': 85.0,\n",
    "        'high_thresh': 95.0,\n",
    "        'min_val': 50.0,\n",
    "        'max_val': 110.0,\n",
    "        'noise_std_factor': 0.005,  # N2 is usually quite stable\n",
    "        'bearing_wear_decrease': 0.5,  # Subtle effect described\n",
    "        'has_hmm': False,\n",
    "    },\n",
    "    'OilPressure': {\n",
    "        'unit': 'PSI',\n",
    "        'cruise_target': 55.0,\n",
    "        'low_thresh': 40.0,\n",
    "        'high_thresh': 70.0,  # High not usually a fault symptom here\n",
    "        'min_val': 0.0,\n",
    "        'max_val': 90.0,\n",
    "        'noise_std_factor': 0.02,\n",
    "        'oil_leak_target': 15.0,  # Pressure drops towards this during leak\n",
    "        'ramp_factor': 0.05,  # Pressure change isn't instant\n",
    "        'has_hmm': False,\n",
    "    },\n",
    "    'Vibration': {  # Parameters common to Vib1 & Vib2\n",
    "        'unit': 'IPS',\n",
    "        'cruise_target': 1.0,\n",
    "        'low_thresh': 0.5,\n",
    "        'high_thresh': 1.5,\n",
    "        'min_val': 0.0,\n",
    "        'max_val': 5.0,\n",
    "        'noise_std': 0.1,  # Absolute noise level\n",
    "        'bearing_wear_increase': 1.0,  # How much it increases in BearingWear\n",
    "        'ramp_factor': 0.1,  # Mechanical changes aren't instant\n",
    "        'fail_drift': 0.8,\n",
    "        'fail_noise_factor': 4.0,\n",
    "        'mrf_correlation_noise_std': 0.05,  # Additional noise specific to each sensor for MRF\n",
    "        'has_hmm': True,\n",
    "    }\n",
    "}"
   ]
  }
 ],
 "metadata": {
  "kernelspec": {
   "display_name": "Python 3",
   "language": "python",
   "name": "python3"
  },
  "language_info": {
   "name": "python",
   "version": "3.8.10"
  }
 },
 "nbformat": 4,
 "nbformat_minor": 5
}
